{
 "cells": [
  {
   "cell_type": "markdown",
   "metadata": {},
   "source": [
    "### Stock Market Prediction using Random Forest "
   ]
  },
  {
   "cell_type": "code",
   "execution_count": 18,
   "metadata": {},
   "outputs": [],
   "source": [
    "import os\n",
    "import glob\n",
    "import pandas as pd\n",
    "import sklearn\n",
    "import matplotlib.pyplot as plt\n",
    "from  sklearn.preprocessing import MinMaxScaler"
   ]
  },
  {
   "cell_type": "markdown",
   "metadata": {},
   "source": [
    "### List of the company names which we are using. Currently considering only Google company and implementing the prediction for it. The same can be replicated by using glob object and implementing for other companies"
   ]
  },
  {
   "cell_type": "code",
   "execution_count": 33,
   "metadata": {},
   "outputs": [
    {
     "data": {
      "text/html": [
       "<div>\n",
       "<style scoped>\n",
       "    .dataframe tbody tr th:only-of-type {\n",
       "        vertical-align: middle;\n",
       "    }\n",
       "\n",
       "    .dataframe tbody tr th {\n",
       "        vertical-align: top;\n",
       "    }\n",
       "\n",
       "    .dataframe thead th {\n",
       "        text-align: right;\n",
       "    }\n",
       "</style>\n",
       "<table border=\"1\" class=\"dataframe\">\n",
       "  <thead>\n",
       "    <tr style=\"text-align: right;\">\n",
       "      <th></th>\n",
       "      <th>Date</th>\n",
       "      <th>Open</th>\n",
       "      <th>High</th>\n",
       "      <th>Close</th>\n",
       "      <th>Volume</th>\n",
       "    </tr>\n",
       "  </thead>\n",
       "  <tbody>\n",
       "    <tr>\n",
       "      <th>0</th>\n",
       "      <td>2014-11-03</td>\n",
       "      <td>553.979065</td>\n",
       "      <td>556.372498</td>\n",
       "      <td>553.699829</td>\n",
       "      <td>1382200</td>\n",
       "    </tr>\n",
       "    <tr>\n",
       "      <th>1</th>\n",
       "      <td>2014-11-04</td>\n",
       "      <td>551.485901</td>\n",
       "      <td>553.979065</td>\n",
       "      <td>552.592834</td>\n",
       "      <td>1244200</td>\n",
       "    </tr>\n",
       "    <tr>\n",
       "      <th>2</th>\n",
       "      <td>2014-11-05</td>\n",
       "      <td>555.275513</td>\n",
       "      <td>555.275513</td>\n",
       "      <td>544.425293</td>\n",
       "      <td>2032200</td>\n",
       "    </tr>\n",
       "    <tr>\n",
       "      <th>3</th>\n",
       "      <td>2014-11-06</td>\n",
       "      <td>544.006409</td>\n",
       "      <td>545.387634</td>\n",
       "      <td>540.555908</td>\n",
       "      <td>1333200</td>\n",
       "    </tr>\n",
       "    <tr>\n",
       "      <th>4</th>\n",
       "      <td>2014-11-07</td>\n",
       "      <td>544.714478</td>\n",
       "      <td>544.714478</td>\n",
       "      <td>539.528748</td>\n",
       "      <td>1633700</td>\n",
       "    </tr>\n",
       "  </tbody>\n",
       "</table>\n",
       "</div>"
      ],
      "text/plain": [
       "         Date        Open        High       Close   Volume\n",
       "0  2014-11-03  553.979065  556.372498  553.699829  1382200\n",
       "1  2014-11-04  551.485901  553.979065  552.592834  1244200\n",
       "2  2014-11-05  555.275513  555.275513  544.425293  2032200\n",
       "3  2014-11-06  544.006409  545.387634  540.555908  1333200\n",
       "4  2014-11-07  544.714478  544.714478  539.528748  1633700"
      ]
     },
     "execution_count": 33,
     "metadata": {},
     "output_type": "execute_result"
    }
   ],
   "source": [
    "\"\"\"\n",
    "'activision blizzard','amazon','apple','EA','facebook','google','groupon','hackett group','horizon','intel','microsoft',\n",
    "'netflix','opko health','papa johns','pepsi co',\n",
    "'Scientific Games Corporation',\n",
    "'starbucks','tesla','The Medicines Company','yahoo'\n",
    "\"\"\"\n",
    "\n",
    "# data_folders=['activision blizzard','amazon','apple','EA','facebook','google','groupon','hackett group','horizon','intel','microsoft',\n",
    "# 'netflix','opko health','papa johns','pepsi co',\n",
    "# 'Scientific Games Corporation',\n",
    "# 'starbucks','tesla','The Medicines Company','yahoo']\n",
    "# path = r'/' \n",
    "# all_files = glob.glob(path + \"/*.csv\")\n",
    "\n",
    "df=pd.read_csv('google/GOOG.csv')\n",
    "\n",
    "\n",
    "# Removing the Adjusted Close column currently for convinience\n",
    "google_df=df[['Date','Open','High','Close','Volume']]\n",
    "\n",
    "google_df.head(5)\n",
    "\n"
   ]
  },
  {
   "cell_type": "code",
   "execution_count": 34,
   "metadata": {},
   "outputs": [
    {
     "name": "stdout",
     "output_type": "stream",
     "text": [
      "Date       object\n",
      "Open      float64\n",
      "High      float64\n",
      "Close     float64\n",
      "Volume      int64\n",
      "dtype: object\n"
     ]
    }
   ],
   "source": [
    "print(google_df.dtypes)"
   ]
  },
  {
   "cell_type": "code",
   "execution_count": 35,
   "metadata": {},
   "outputs": [
    {
     "name": "stdout",
     "output_type": "stream",
     "text": [
      "0    553.699829\n",
      "1    552.592834\n",
      "2    544.425293\n",
      "3    540.555908\n",
      "4    539.528748\n",
      "Name: Close, dtype: float64\n"
     ]
    }
   ],
   "source": [
    "print(google_df['Close'].head(5))"
   ]
  },
  {
   "cell_type": "code",
   "execution_count": 42,
   "metadata": {},
   "outputs": [
    {
     "data": {
      "text/plain": [
       "[<matplotlib.lines.Line2D at 0x193c31262e8>]"
      ]
     },
     "execution_count": 42,
     "metadata": {},
     "output_type": "execute_result"
    },
    {
     "data": {
      "image/png": "[encoded data removed]",
      "text/plain": [
       "<Figure size 432x288 with 1 Axes>"
      ]
     },
     "metadata": {},
     "output_type": "display_data"
    }
   ],
   "source": [
    "# Plotting the graph for the initial Close values present in the google data\n",
    "plt.title('close values')\n",
    "plt.plot(google_df['Close'],color='green')"
   ]
  },
  {
   "cell_type": "code",
   "execution_count": null,
   "metadata": {},
   "outputs": [],
   "source": []
  }
 ],
 "metadata": {
  "kernelspec": {
   "display_name": "Python 3",
   "language": "python",
   "name": "python3"
  },
  "language_info": {
   "codemirror_mode": {
    "name": "ipython",
    "version": 3
   },
   "file_extension": ".py",
   "mimetype": "text/x-python",
   "name": "python",
   "nbconvert_exporter": "python",
   "pygments_lexer": "ipython3",
   "version": "3.6.5"
  }
 },
 "nbformat": 4,
 "nbformat_minor": 2
}
